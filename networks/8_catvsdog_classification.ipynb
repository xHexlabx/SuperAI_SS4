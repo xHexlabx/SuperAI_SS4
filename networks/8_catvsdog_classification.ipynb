{
 "cells": [
  {
   "cell_type": "code",
   "execution_count": 8,
   "metadata": {},
   "outputs": [],
   "source": [
    "import tensorflow as tf\n",
    "import numpy as np\n",
    "import matplotlib.pyplot as plt\n",
    "import os\n",
    "import cv2"
   ]
  },
  {
   "cell_type": "code",
   "execution_count": 9,
   "metadata": {},
   "outputs": [],
   "source": [
    "x_train = []\n",
    "y_train = []\n",
    "\n",
    "directory = \"C:\\\\Users\\\\Win10\\\\Documents\\\\GitHub\\\\SuperAI_SS4\\\\networks\\\\cat_vs_dog\\\\src\\\\train\\\\train\"\n",
    "\n",
    "for filename in os.listdir(directory) :\n",
    "    \n",
    "    f = os.path.join(directory, filename)\n",
    "    \n",
    "    array_image = np.asarray(cv2.imread(f))\n",
    "    array_image = array_image.astype('float') / 255.0\n",
    "    \n",
    "    x_train.append(array_image)\n",
    "\n",
    "    if(filename[0 : 3] == 'cat') :\n",
    "        y_train.append([0])\n",
    "    \n",
    "    else :\n",
    "        y_train.append([1])\n",
    "        \n",
    "x_train = tf.convert_to_tensor(x_train)\n",
    "y_train = tf.convert_to_tensor(y_train)\n"
   ]
  },
  {
   "cell_type": "code",
   "execution_count": null,
   "metadata": {},
   "outputs": [],
   "source": [
    "print(x_train.shape , y_train.shape)"
   ]
  }
 ],
 "metadata": {
  "kernelspec": {
   "display_name": "Python 3",
   "language": "python",
   "name": "python3"
  },
  "language_info": {
   "codemirror_mode": {
    "name": "ipython",
    "version": 3
   },
   "file_extension": ".py",
   "mimetype": "text/x-python",
   "name": "python",
   "nbconvert_exporter": "python",
   "pygments_lexer": "ipython3",
   "version": "3.10.2"
  }
 },
 "nbformat": 4,
 "nbformat_minor": 2
}
